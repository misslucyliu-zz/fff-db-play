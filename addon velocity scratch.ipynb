{
 "cells": [
  {
   "cell_type": "markdown",
   "metadata": {},
   "source": [
    "## play with dbs"
   ]
  },
  {
   "cell_type": "markdown",
   "metadata": {},
   "source": [
    "#### imports"
   ]
  },
  {
   "cell_type": "code",
   "execution_count": 19,
   "metadata": {
    "collapsed": false
   },
   "outputs": [],
   "source": [
    "import sys\n",
    "sys.path.append('library')\n",
    "import cnfg\n",
    "from connection import *\n",
    "from survey import *\n",
    "from __future__ import division"
   ]
  },
  {
   "cell_type": "markdown",
   "metadata": {},
   "source": [
    "#### read server config file"
   ]
  },
  {
   "cell_type": "code",
   "execution_count": 32,
   "metadata": {
    "collapsed": false
   },
   "outputs": [],
   "source": [
    "db_config = cnfg.load(\".fff_config\")"
   ]
  },
  {
   "cell_type": "markdown",
   "metadata": {},
   "source": [
    "#### start ssh tunnels and db connections"
   ]
  },
  {
   "cell_type": "code",
   "execution_count": 29,
   "metadata": {
    "collapsed": false
   },
   "outputs": [],
   "source": [
    "# connect to push db\n",
    "push_ssh = define_ssh_tunnel(db_config,db_config['push_server_host'])\n",
    "push_ssh.start()\n",
    "push_con = open_db_connection(db_config,push_ssh)\n",
    "\n",
    "# connect to prod db\n",
    "prod_ssh = define_ssh_tunnel(db_config,db_config['prod_server_host'])\n",
    "prod_ssh.start()\n",
    "prod_con = open_db_connection(db_config,prod_ssh)"
   ]
  },
  {
   "cell_type": "markdown",
   "metadata": {},
   "source": [
    "#### run queries for actives, skin tone surveys, spring select surveys"
   ]
  },
  {
   "cell_type": "code",
   "execution_count": 35,
   "metadata": {
    "collapsed": false
   },
   "outputs": [],
   "source": [
    "actives = return_actives(push_con)\n",
    "skin_tone_dict = return_skin_tone_dict(prod_con,actives)\n",
    "spring_select_dict = return_spring_select_dict(prod_con,actives)"
   ]
  },
  {
   "cell_type": "markdown",
   "metadata": {},
   "source": [
    "#### parse skus"
   ]
  },
  {
   "cell_type": "code",
   "execution_count": 36,
   "metadata": {
    "collapsed": false
   },
   "outputs": [],
   "source": [
    "skus = return_skus(sku_key, actives, skin_tone_dict, spring_select_dict)"
   ]
  },
  {
   "cell_type": "code",
   "execution_count": 37,
   "metadata": {
    "collapsed": false
   },
   "outputs": [
    {
     "name": "stdout",
     "output_type": "stream",
     "text": [
      "Actives : 99234\n",
      "Q-1601A-G1 : 71336\n",
      "Q-1601A-G2 : 2052\n",
      "Q-1601A-1A : 4195\n",
      "Q-1601A-1B : 2585\n",
      "Q-1601A-1C : 4642\n",
      "Q-1601A-1D : 4316\n",
      "Q-1601A-2A : 53\n",
      "Q-1601A-2B : 36\n",
      "Q-1601A-2C : 101\n",
      "Q-1601A-2D : 76\n",
      "Actives without SKU: 9842\n",
      "Light kit : 87074 ( 97.41 %)\n",
      "Dark kit : 2318 ( 2.59 %)\n"
     ]
    }
   ],
   "source": [
    "total_active = len(actives)\n",
    "print 'Actives :',total_active\n",
    "total_skus = 0\n",
    "lights = 0\n",
    "darks = 0\n",
    "for sku in sku_order:\n",
    "    print sku,':',skus[sku]\n",
    "    total_skus += skus[sku]\n",
    "    if sku[-1] == '1' or sku[-2] == '1':\n",
    "        lights += skus[sku]\n",
    "    if sku[-1] == '2' or sku[-2] == '2':\n",
    "        darks += skus[sku]\n",
    "print 'Actives without SKU:', len(actives) - total_skus\n",
    "print 'Light kit :', lights, \"(\",round(((lights/total_skus)*100),2),\"%)\"\n",
    "print 'Dark kit :', darks, \"(\",round(((darks/total_skus)*100),2),\"%)\""
   ]
  },
  {
   "cell_type": "markdown",
   "metadata": {},
   "source": [
    "#### shut down ssh tunnels"
   ]
  },
  {
   "cell_type": "code",
   "execution_count": 8,
   "metadata": {
    "collapsed": true
   },
   "outputs": [],
   "source": [
    "push_ssh.stop()\n",
    "prod_ssh.stop()"
   ]
  },
  {
   "cell_type": "code",
   "execution_count": null,
   "metadata": {
    "collapsed": true
   },
   "outputs": [],
   "source": []
  }
 ],
 "metadata": {
  "kernelspec": {
   "display_name": "Python 2",
   "language": "python",
   "name": "python2"
  },
  "language_info": {
   "codemirror_mode": {
    "name": "ipython",
    "version": 2
   },
   "file_extension": ".py",
   "mimetype": "text/x-python",
   "name": "python",
   "nbconvert_exporter": "python",
   "pygments_lexer": "ipython2",
   "version": "2.7.10"
  }
 },
 "nbformat": 4,
 "nbformat_minor": 0
}
